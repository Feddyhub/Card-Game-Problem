{
 "cells": [
  {
   "cell_type": "code",
   "execution_count": 364,
   "id": "5d37fe07",
   "metadata": {},
   "outputs": [],
   "source": [
    "import numpy as np\n",
    "import random"
   ]
  },
  {
   "cell_type": "code",
   "execution_count": 365,
   "id": "9c4f5bad",
   "metadata": {},
   "outputs": [],
   "source": [
    "tur = [\"Maca\",\"Sinek\",\"Kupa\",\"Karo\"]\n",
    "kart_sayisi =range(1,14)\n",
    "kart=[]"
   ]
  },
  {
   "cell_type": "markdown",
   "id": "3739530e",
   "metadata": {},
   "source": [
    " list comprehension methodu ogren"
   ]
  },
  {
   "cell_type": "code",
   "execution_count": 366,
   "id": "636181af",
   "metadata": {},
   "outputs": [],
   "source": [
    "for i in tur:\n",
    "    for j in kart_sayisi:\n",
    "        kart.append((i,j))"
   ]
  },
  {
   "cell_type": "markdown",
   "id": "5aaea75b",
   "metadata": {},
   "source": [
    "kart"
   ]
  },
  {
   "cell_type": "code",
   "execution_count": 367,
   "id": "294d5ba8",
   "metadata": {},
   "outputs": [
    {
     "data": {
      "text/plain": [
       "(None, 52)"
      ]
     },
     "execution_count": 367,
     "metadata": {},
     "output_type": "execute_result"
    }
   ],
   "source": [
    "random.shuffle(kart) , len(kart)"
   ]
  },
  {
   "cell_type": "code",
   "execution_count": 368,
   "id": "83f451f8",
   "metadata": {},
   "outputs": [],
   "source": [
    "player1=[]\n",
    "player2=[]\n",
    "player3=[]\n",
    "player4=[]"
   ]
  },
  {
   "cell_type": "code",
   "execution_count": 369,
   "id": "5118425f",
   "metadata": {},
   "outputs": [],
   "source": [
    "def get_info(PLAYERS):\n",
    "    if PLAYERS ==player1:\n",
    "        print(\"murat\")\n",
    "        print(player1)\n",
    "        \n",
    "    elif PLAYERS ==player2:\n",
    "        print(\"ferhat\")\n",
    "        print(player2)\n",
    "        \n",
    "    elif PLAYERS ==player3:\n",
    "        print(\"derya\")\n",
    "        print(player3)\n",
    "    \n",
    "    elif PLAYERS ==player4:\n",
    "        print(\"ahmet\")\n",
    "        print(player4)\n",
    "    "
   ]
  },
  {
   "cell_type": "code",
   "execution_count": 384,
   "id": "7651be56",
   "metadata": {},
   "outputs": [],
   "source": [
    "def kart_dagit(players):\n",
    "    for i in range(8):\n",
    "        players.append(kart[i])\n",
    "        kart.pop()\n",
    "        np.random.shuffle(kart)"
   ]
  },
  {
   "cell_type": "code",
   "execution_count": 371,
   "id": "4a0ba30e",
   "metadata": {},
   "outputs": [],
   "source": [
    "kart_dagit(player1)\n",
    "kart_dagit(player2)\n",
    "kart_dagit(player3)\n",
    "kart_dagit(player4)"
   ]
  },
  {
   "cell_type": "code",
   "execution_count": 372,
   "id": "630a2de4",
   "metadata": {},
   "outputs": [
    {
     "name": "stdout",
     "output_type": "stream",
     "text": [
      "<class 'list'>\n"
     ]
    }
   ],
   "source": [
    "ortada_kalan=kart , print(type(kart))"
   ]
  },
  {
   "cell_type": "code",
   "execution_count": 382,
   "id": "5c9a5c85",
   "metadata": {},
   "outputs": [],
   "source": [
    "def kart_degis(players,kart):\n",
    "    while True:\n",
    "        for _ in range(4):\n",
    "            R_index=np.random.randint(0,(len(kart)-1))\n",
    "            random_card=kart[R_index]\n",
    "            players.append(random_card)\n",
    "            kart.pop(R_index)\n",
    "            kart.append(players.pop(0))\n",
    "       \n",
    "        a = input(\"Kartlardan memnun musun? (Y/N): \")\n",
    "        if a.lower() != 'y':\n",
    "                break"
   ]
  },
  {
   "cell_type": "code",
   "execution_count": 374,
   "id": "059eed74",
   "metadata": {},
   "outputs": [
    {
     "data": {
      "text/plain": [
       "20"
      ]
     },
     "execution_count": 374,
     "metadata": {},
     "output_type": "execute_result"
    }
   ],
   "source": [
    "len(kart)"
   ]
  },
  {
   "cell_type": "code",
   "execution_count": 383,
   "id": "d7483e62",
   "metadata": {},
   "outputs": [
    {
     "data": {
      "text/plain": [
       "[('Karo', 4),\n",
       " ('Karo', 2),\n",
       " ('Sinek', 1),\n",
       " ('Sinek', 9),\n",
       " ('Kupa', 6),\n",
       " ('Maca', 8),\n",
       " ('Karo', 2),\n",
       " ('Kupa', 2)]"
      ]
     },
     "execution_count": 383,
     "metadata": {},
     "output_type": "execute_result"
    }
   ],
   "source": [
    "player4 "
   ]
  },
  {
   "cell_type": "code",
   "execution_count": 376,
   "id": "d8616409",
   "metadata": {},
   "outputs": [],
   "source": [
    "kart_degis(player4,kart)"
   ]
  },
  {
   "cell_type": "code",
   "execution_count": 377,
   "id": "4c7fde9a",
   "metadata": {
    "scrolled": true
   },
   "outputs": [
    {
     "data": {
      "text/plain": [
       "[('Karo', 4),\n",
       " ('Karo', 2),\n",
       " ('Sinek', 1),\n",
       " ('Sinek', 9),\n",
       " ('Kupa', 6),\n",
       " ('Maca', 8),\n",
       " ('Karo', 2),\n",
       " ('Kupa', 2)]"
      ]
     },
     "execution_count": 377,
     "metadata": {},
     "output_type": "execute_result"
    }
   ],
   "source": [
    "player4"
   ]
  },
  {
   "cell_type": "code",
   "execution_count": null,
   "id": "66a21bee",
   "metadata": {},
   "outputs": [],
   "source": []
  },
  {
   "cell_type": "code",
   "execution_count": null,
   "id": "e3b8856e",
   "metadata": {},
   "outputs": [],
   "source": []
  },
  {
   "cell_type": "code",
   "execution_count": null,
   "id": "4c756222",
   "metadata": {},
   "outputs": [],
   "source": []
  },
  {
   "cell_type": "code",
   "execution_count": null,
   "id": "0c8b7413",
   "metadata": {},
   "outputs": [],
   "source": []
  },
  {
   "cell_type": "markdown",
   "id": "e53571f3",
   "metadata": {},
   "source": [
    "# onceki denemelerim :))"
   ]
  },
  {
   "cell_type": "code",
   "execution_count": 3,
   "id": "4d09f1eb",
   "metadata": {},
   "outputs": [],
   "source": [
    "player1=[]\n",
    "player2=[]\n",
    "player3=[]\n",
    "player4=[]"
   ]
  },
  {
   "cell_type": "code",
   "execution_count": 4,
   "id": "a0ae75f0",
   "metadata": {},
   "outputs": [],
   "source": [
    "oyuncu_adeti=4\n",
    "kac_kart=8"
   ]
  },
  {
   "cell_type": "code",
   "execution_count": 10,
   "id": "12344d27",
   "metadata": {},
   "outputs": [],
   "source": [
    "kart =np.array([maca,sinek,kupa,karo])"
   ]
  },
  {
   "cell_type": "code",
   "execution_count": 11,
   "id": "ae2aefbf",
   "metadata": {},
   "outputs": [
    {
     "data": {
      "text/plain": [
       "array([[ 0,  1,  2,  3,  4,  5,  6,  7,  8,  9, 10, 11, 12, 13],\n",
       "       [ 0,  1,  2,  3,  4,  5,  6,  7,  8,  9, 10, 11, 12, 13],\n",
       "       [ 0,  1,  2,  3,  4,  5,  6,  7,  8,  9, 10, 11, 12, 13],\n",
       "       [ 0,  1,  2,  3,  4,  5,  6,  7,  8,  9, 10, 11, 12, 13]])"
      ]
     },
     "execution_count": 11,
     "metadata": {},
     "output_type": "execute_result"
    }
   ],
   "source": [
    "kart"
   ]
  },
  {
   "cell_type": "code",
   "execution_count": 21,
   "id": "12558f46",
   "metadata": {
    "scrolled": true
   },
   "outputs": [
    {
     "name": "stdout",
     "output_type": "stream",
     "text": [
      "----\n"
     ]
    },
    {
     "data": {
      "text/plain": [
       "(2, 12, None, 2)"
      ]
     },
     "execution_count": 21,
     "metadata": {},
     "output_type": "execute_result"
    }
   ],
   "source": [
    "kart[3][2], kart[0][12] , print(\"----\") ,"
   ]
  },
  {
   "cell_type": "code",
   "execution_count": 27,
   "id": "a80cbd2d",
   "metadata": {},
   "outputs": [
    {
     "data": {
      "text/plain": [
       "((4, 14), 2)"
      ]
     },
     "execution_count": 27,
     "metadata": {},
     "output_type": "execute_result"
    }
   ],
   "source": [
    "kart.shape , kart.ndim"
   ]
  },
  {
   "cell_type": "code",
   "execution_count": 22,
   "id": "0c476900",
   "metadata": {},
   "outputs": [],
   "source": [
    "for i in kart:\n",
    "    np.random.shuffle(i)"
   ]
  },
  {
   "cell_type": "code",
   "execution_count": 28,
   "id": "6078703b",
   "metadata": {},
   "outputs": [
    {
     "data": {
      "text/plain": [
       "array([[13,  8, 10, 12,  2,  9,  7, 11,  6,  1,  3,  5,  4,  0],\n",
       "       [11,  9,  8,  1,  0,  2,  7,  4, 12,  5,  3, 10,  6, 13],\n",
       "       [ 9,  7,  3,  8, 10,  1,  5,  4, 11,  0,  6, 13, 12,  2],\n",
       "       [ 0, 12,  8,  3,  9,  4,  6, 11,  5, 10, 13,  7,  2,  1]])"
      ]
     },
     "execution_count": 28,
     "metadata": {},
     "output_type": "execute_result"
    }
   ],
   "source": [
    "kart"
   ]
  },
  {
   "cell_type": "code",
   "execution_count": 36,
   "id": "76d7043a",
   "metadata": {},
   "outputs": [],
   "source": [
    "stack = kart.flatten()"
   ]
  },
  {
   "cell_type": "code",
   "execution_count": 37,
   "id": "fc9953cb",
   "metadata": {
    "scrolled": true
   },
   "outputs": [
    {
     "data": {
      "text/plain": [
       "array([13,  8, 10, 12,  2,  9,  7, 11,  6,  1,  3,  5,  4,  0, 11,  9,  8,\n",
       "        1,  0,  2,  7,  4, 12,  5,  3, 10,  6, 13,  9,  7,  3,  8, 10,  1,\n",
       "        5,  4, 11,  0,  6, 13, 12,  2,  0, 12,  8,  3,  9,  4,  6, 11,  5,\n",
       "       10, 13,  7,  2,  1])"
      ]
     },
     "execution_count": 37,
     "metadata": {},
     "output_type": "execute_result"
    }
   ],
   "source": [
    "stack"
   ]
  },
  {
   "cell_type": "code",
   "execution_count": 116,
   "id": "656177fc",
   "metadata": {},
   "outputs": [],
   "source": [
    "def kart_dagit(x):\n",
    "   \n",
    "    for i in range(kac_kart):\n",
    "        a=random.randint(0,3)\n",
    "        b=random.randint(0,13)\n",
    "        print(kart[a][b])\n",
    "            \n",
    "    \n",
    "    "
   ]
  },
  {
   "cell_type": "code",
   "execution_count": 31,
   "id": "db2b9df5",
   "metadata": {},
   "outputs": [],
   "source": [
    "maca = np.arange(1,15)\n",
    "sinek= np.arange(1,15)\n",
    "kupa= np.arange(1,15)\n",
    "karo= np.arange(1,15)\n",
    "stack=np.arange(1,53)"
   ]
  },
  {
   "cell_type": "code",
   "execution_count": 38,
   "id": "10bf2411",
   "metadata": {},
   "outputs": [],
   "source": [
    "suits = ['Maca', 'Sinek', 'Kupa', 'Karo']\n",
    "values = np.arange(1, 14)"
   ]
  },
  {
   "cell_type": "code",
   "execution_count": 39,
   "id": "51b16ec0",
   "metadata": {},
   "outputs": [],
   "source": [
    "deck = [(suit, value) for suit in suits for value in values]\n",
    "np.random.shuffle(deck)"
   ]
  },
  {
   "cell_type": "code",
   "execution_count": 42,
   "id": "900c024e",
   "metadata": {},
   "outputs": [
    {
     "name": "stdout",
     "output_type": "stream",
     "text": [
      "player1'in Kartları:\n",
      "Karo 4\n",
      "Karo 13\n",
      "Karo 10\n",
      "Karo 8\n",
      "Sinek 11\n",
      "Maca 6\n",
      "Maca 3\n",
      "Kupa 1\n"
     ]
    }
   ],
   "source": [
    "print(\"player1'in Kartları:\")\n",
    "for suit, value in player1_cards:\n",
    "    print(f\"{suit} {value}\")\n"
   ]
  },
  {
   "cell_type": "code",
   "execution_count": 104,
   "id": "5d2daf7f",
   "metadata": {
    "collapsed": true
   },
   "outputs": [
    {
     "data": {
      "text/plain": [
       "5"
      ]
     },
     "execution_count": 104,
     "metadata": {},
     "output_type": "execute_result"
    }
   ],
   "source": [
    "kart[2][12]"
   ]
  },
  {
   "cell_type": "code",
   "execution_count": 40,
   "id": "bcdd6c6a",
   "metadata": {},
   "outputs": [],
   "source": [
    "player1_cards = [deck.pop() for _ in range(8)]\n"
   ]
  },
  {
   "cell_type": "code",
   "execution_count": 117,
   "id": "ad40fde5",
   "metadata": {
    "collapsed": true
   },
   "outputs": [
    {
     "name": "stdout",
     "output_type": "stream",
     "text": [
      "6\n",
      "9\n",
      "10\n",
      "8\n",
      "13\n",
      "1\n",
      "2\n",
      "0\n"
     ]
    }
   ],
   "source": [
    "kart_dagit(player1)"
   ]
  },
  {
   "cell_type": "code",
   "execution_count": null,
   "id": "3310ff95",
   "metadata": {},
   "outputs": [],
   "source": []
  }
 ],
 "metadata": {
  "kernelspec": {
   "display_name": "Python 3 (ipykernel)",
   "language": "python",
   "name": "python3"
  },
  "language_info": {
   "codemirror_mode": {
    "name": "ipython",
    "version": 3
   },
   "file_extension": ".py",
   "mimetype": "text/x-python",
   "name": "python",
   "nbconvert_exporter": "python",
   "pygments_lexer": "ipython3",
   "version": "3.11.5"
  }
 },
 "nbformat": 4,
 "nbformat_minor": 5
}
