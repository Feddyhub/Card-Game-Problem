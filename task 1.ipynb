{
 "cells": [
  {
   "cell_type": "markdown",
   "id": "4e00cd70",
   "metadata": {},
   "source": [
    "# TASK I \n"
   ]
  },
  {
   "cell_type": "markdown",
   "id": "9cbc4f76",
   "metadata": {},
   "source": [
    "# karo 0 -- sinek 1 -- kupa 2  -- karo 3\n",
    "\n",
    "###### Kullanici begenmezse masadaki 4 kart ile elindekini takaslayacak ve bunu ters bir sey soylemeyene kadar tekrar edecek \n"
   ]
  },
  {
   "cell_type": "markdown",
   "id": "b83daddc",
   "metadata": {},
   "source": [
    "######\n",
    "Pythonda tam bir array yapisi olmadigi icin numpy kullanmadan en yakini list kullandim dictionary kullanmak karo as gibi kelimeleri gormek acisindan iyi olurdu fakat gercek veride stringden daha cok sayisal veri kullanisli oldugu ve herzaman label encoding yaptigimiz icin sayi ile 2d belirtmek istedim. \n",
    "\n",
    "Yanlislarim eksiklerim var ise gelismem icin lutfen uyarin iyi gunler\n",
    "##### "
   ]
  },
  {
   "cell_type": "code",
   "execution_count": 439,
   "id": "9678e079",
   "metadata": {},
   "outputs": [],
   "source": [
    "import random"
   ]
  },
  {
   "cell_type": "code",
   "execution_count": 440,
   "id": "38d501c5",
   "metadata": {},
   "outputs": [
    {
     "name": "stdout",
     "output_type": "stream",
     "text": [
      "[1, 2, 3, 4, 5, 6, 7, 8, 9, 10, 11, 12, 13]\n"
     ]
    }
   ],
   "source": [
    "isit=0\n",
    "player_count=4\n",
    "kind=4 # m,s,k,r\n",
    "card=list(range(1,14))\n",
    "print(card)"
   ]
  },
  {
   "cell_type": "code",
   "execution_count": 441,
   "id": "a8be39cd",
   "metadata": {},
   "outputs": [],
   "source": [
    "# ic ice for dongusu\n",
    "stack = [(i, j) for i in range(kind)\n",
    "         for j in card]\n",
    "\n"
   ]
  },
  {
   "cell_type": "code",
   "execution_count": 442,
   "id": "26e8239c",
   "metadata": {
    "scrolled": true
   },
   "outputs": [
    {
     "data": {
      "text/plain": [
       "(0, 10)"
      ]
     },
     "execution_count": 442,
     "metadata": {},
     "output_type": "execute_result"
    }
   ],
   "source": [
    "#kartin icerisine bir bakis orn:(3,4)= karo 4\n",
    "stack[9]"
   ]
  },
  {
   "cell_type": "code",
   "execution_count": 443,
   "id": "0eba819f",
   "metadata": {
    "collapsed": true
   },
   "outputs": [
    {
     "data": {
      "text/plain": [
       "[(0, 10),\n",
       " (1, 2),\n",
       " (0, 2),\n",
       " (3, 4),\n",
       " (3, 8),\n",
       " (3, 3),\n",
       " (0, 9),\n",
       " (2, 3),\n",
       " (1, 1),\n",
       " (2, 9),\n",
       " (2, 7),\n",
       " (2, 12),\n",
       " (0, 12),\n",
       " (3, 11),\n",
       " (0, 3),\n",
       " (1, 9),\n",
       " (0, 5),\n",
       " (1, 13),\n",
       " (1, 12),\n",
       " (3, 1),\n",
       " (3, 10),\n",
       " (1, 11),\n",
       " (2, 8),\n",
       " (3, 9),\n",
       " (1, 8),\n",
       " (2, 10),\n",
       " (0, 8),\n",
       " (3, 6),\n",
       " (0, 1),\n",
       " (3, 7),\n",
       " (0, 4),\n",
       " (0, 7),\n",
       " (0, 6),\n",
       " (2, 13),\n",
       " (3, 13),\n",
       " (0, 11),\n",
       " (1, 7),\n",
       " (1, 3),\n",
       " (2, 11),\n",
       " (2, 5),\n",
       " (1, 5),\n",
       " (2, 1),\n",
       " (1, 4),\n",
       " (1, 6),\n",
       " (1, 10),\n",
       " (3, 12),\n",
       " (2, 6),\n",
       " (0, 13),\n",
       " (2, 4),\n",
       " (3, 2),\n",
       " (2, 2),\n",
       " (3, 5)]"
      ]
     },
     "execution_count": 443,
     "metadata": {},
     "output_type": "execute_result"
    }
   ],
   "source": [
    "#kartlari dagitmadan once karalim\n",
    "#shuffle method in random\n",
    "random.shuffle(stack)\n",
    "shuffled_stack=stack\n",
    "shuffled_stack"
   ]
  },
  {
   "cell_type": "code",
   "execution_count": 444,
   "id": "eaed3bd3",
   "metadata": {},
   "outputs": [],
   "source": [
    "## oyunculari masaya cagiralim\n",
    "player1=[]\n",
    "player2=[]\n",
    "player3=[]\n",
    "player4=[]"
   ]
  },
  {
   "cell_type": "code",
   "execution_count": 445,
   "id": "14472aef",
   "metadata": {},
   "outputs": [],
   "source": [
    "def get_info(PLAYERS):\n",
    "    if PLAYERS ==player1:\n",
    "        print(\"murat\")\n",
    "        print(player1)\n",
    "        \n",
    "    elif PLAYERS ==player2:\n",
    "        print(\"ferhat\")\n",
    "        print(player2)\n",
    "        \n",
    "    elif PLAYERS ==player3:\n",
    "        print(\"derya\")\n",
    "        print(player3)\n",
    "    \n",
    "    elif PLAYERS ==player4:\n",
    "        print(\"ahmet\")\n",
    "        print(player4)\n",
    "    "
   ]
  },
  {
   "cell_type": "code",
   "execution_count": 446,
   "id": "8c2324d8",
   "metadata": {},
   "outputs": [],
   "source": [
    "## kartlari oyunculara dagitan  fonksiyon (oncesinde karmistik)\n",
    "def dealcard(players,SHUFFLED_STACK):\n",
    "    \n",
    "\n",
    "    for i in range(8):\n",
    "        random_card_index = random.randint(0, len(SHUFFLED_STACK) - 1)\n",
    "        random_card = SHUFFLED_STACK[random_card_index]\n",
    "        players.append(random_card)\n",
    "        SHUFFLED_STACK.pop(random_card_index)\n",
    "    get_info(players)\n",
    "\n",
    "             "
   ]
  },
  {
   "cell_type": "code",
   "execution_count": 447,
   "id": "32e386ee",
   "metadata": {},
   "outputs": [
    {
     "data": {
      "text/plain": [
       "52"
      ]
     },
     "execution_count": 447,
     "metadata": {},
     "output_type": "execute_result"
    }
   ],
   "source": [
    "len(shuffled_stack)"
   ]
  },
  {
   "cell_type": "code",
   "execution_count": 448,
   "id": "ff5e8a07",
   "metadata": {
    "scrolled": false
   },
   "outputs": [
    {
     "name": "stdout",
     "output_type": "stream",
     "text": [
      "murat\n",
      "[(1, 6), (0, 12), (1, 13), (3, 4), (1, 3), (2, 1), (2, 4), (3, 6)]\n"
     ]
    }
   ],
   "source": [
    "dealcard(player1,shuffled_stack)"
   ]
  },
  {
   "cell_type": "code",
   "execution_count": 449,
   "id": "bea864cf",
   "metadata": {},
   "outputs": [
    {
     "name": "stdout",
     "output_type": "stream",
     "text": [
      "ferhat\n",
      "[(2, 8), (3, 2), (0, 9), (0, 8), (0, 4), (1, 1), (1, 10), (3, 8)]\n"
     ]
    }
   ],
   "source": [
    "dealcard(player2,shuffled_stack)"
   ]
  },
  {
   "cell_type": "code",
   "execution_count": 450,
   "id": "a0b46fa0",
   "metadata": {
    "scrolled": false
   },
   "outputs": [
    {
     "name": "stdout",
     "output_type": "stream",
     "text": [
      "derya\n",
      "[(1, 7), (0, 11), (2, 2), (0, 10), (3, 10), (3, 3), (3, 1), (2, 6)]\n"
     ]
    }
   ],
   "source": [
    "dealcard(player3,shuffled_stack)"
   ]
  },
  {
   "cell_type": "code",
   "execution_count": 452,
   "id": "97fc6ce9",
   "metadata": {},
   "outputs": [
    {
     "name": "stdout",
     "output_type": "stream",
     "text": [
      "ahmet\n",
      "[(0, 7), (2, 10), (0, 13), (3, 9), (3, 13), (0, 6), (1, 12), (2, 3)]\n"
     ]
    }
   ],
   "source": [
    "dealcard(player4,shuffled_stack)"
   ]
  },
  {
   "cell_type": "code",
   "execution_count": 453,
   "id": "11b68ddc",
   "metadata": {},
   "outputs": [
    {
     "data": {
      "text/plain": [
       "20"
      ]
     },
     "execution_count": 453,
     "metadata": {},
     "output_type": "execute_result"
    }
   ],
   "source": [
    "## Masanin ortasinda 20 kart kaldi.//basarili\n",
    "len(shuffled_stack)\n"
   ]
  },
  {
   "cell_type": "code",
   "execution_count": 431,
   "id": "b4b54c09",
   "metadata": {
    "collapsed": true
   },
   "outputs": [
    {
     "name": "stdout",
     "output_type": "stream",
     "text": [
      "YENI KART:  [(3, 7), (0, 4), (0, 12), (2, 5), (0, 5), (1, 10), (3, 5), (3, 6)]\n"
     ]
    },
    {
     "ename": "NameError",
     "evalue": "name 'SHUFFLED_STACK' is not defined",
     "output_type": "error",
     "traceback": [
      "\u001b[1;31m---------------------------------------------------------------------------\u001b[0m",
      "\u001b[1;31mNameError\u001b[0m                                 Traceback (most recent call last)",
      "Cell \u001b[1;32mIn[431], line 14\u001b[0m\n\u001b[0;32m     10\u001b[0m     \u001b[38;5;66;03m# eger input ile kisitlamak istersek\u001b[39;00m\n\u001b[0;32m     11\u001b[0m     \u001b[38;5;66;03m#isit=int(input(\"Kartlar kariliyor\")) \u001b[39;00m\n\u001b[0;32m     12\u001b[0m     \u001b[38;5;66;03m# if isit != -1 break;              \u001b[39;00m\n\u001b[0;32m     13\u001b[0m \u001b[38;5;28mprint\u001b[39m(\u001b[38;5;124m\"\u001b[39m\u001b[38;5;124mYENI KART: \u001b[39m\u001b[38;5;124m\"\u001b[39m, player1)\n\u001b[1;32m---> 14\u001b[0m \u001b[38;5;28mprint\u001b[39m(\u001b[38;5;124m\"\u001b[39m\u001b[38;5;130;01m\\n\u001b[39;00m\u001b[38;5;124m-----\u001b[39m\u001b[38;5;124m\"\u001b[39m, SHUFFLED_STACK)\n",
      "\u001b[1;31mNameError\u001b[0m: name 'SHUFFLED_STACK' is not defined"
     ]
    }
   ],
   "source": [
    "def change_my_card(players, SHUFFLED_STACK):\n",
    "    while True:\n",
    "          for i in range(4):\n",
    "                random_card_index = random.randint(0, len(SHUFFLED_STACK) - 1)\n",
    "                random_card = SHUFFLED_STACK[random_card_index]\n",
    "\n",
    "                players.append(random_card)\n",
    "                SHUFFLED_STACK.pop(random_card_index)\n",
    "                SHUFFLED_STACK.append(players.pop(0))\n",
    "    # eger input ile kisitlamak istersek\n",
    "    #isit=int(input(\"Kartlar kariliyor\")) \n",
    "    # if isit != -1 break;              \n",
    "    print(\"YENI KART: \", players)\n",
    "    print(\"\\n-----\", SHUFFLED_STACK)\n"
   ]
  },
  {
   "cell_type": "code",
   "execution_count": 434,
   "id": "e53049a6",
   "metadata": {},
   "outputs": [
    {
     "name": "stdout",
     "output_type": "stream",
     "text": [
      "YENI KART:  [(3, 7), (0, 4), (0, 12), (2, 5), (0, 5), (1, 10), (3, 5), (3, 6)]\n",
      "\n",
      "-----\n",
      " [(1, 7), (2, 4), (3, 3), (1, 5), (2, 2), (1, 13), (2, 1), (2, 12), (1, 8), (3, 11), (2, 13), (1, 2), (2, 8), (3, 9), (0, 6), (0, 1), (3, 1), (3, 8), (3, 12), (2, 3)]\n"
     ]
    }
   ],
   "source": [
    "print(\"YENI KART: \", player1)\n",
    "print(\"\\n-----\\n\", shuffled_stack)"
   ]
  },
  {
   "cell_type": "code",
   "execution_count": 428,
   "id": "ceed9646",
   "metadata": {
    "scrolled": true
   },
   "outputs": [
    {
     "name": "stdout",
     "output_type": "stream",
     "text": [
      "degismis hali:  [(3, 7), (0, 4), (0, 12), (2, 5), (0, 5), (1, 10), (3, 5), (3, 6)]\n",
      "\n",
      "----- [(1, 7), (2, 4), (3, 3), (1, 5), (2, 2), (1, 13), (2, 1), (2, 12), (1, 8), (3, 11), (2, 13), (1, 2), (2, 8), (3, 9), (0, 6), (0, 1), (3, 1), (3, 8), (3, 12), (2, 3)]\n"
     ]
    }
   ],
   "source": [
    "#print(\"verinin ilk hali player: \", player1)\n",
    "#print(\"\\n---\", shuffled_stack)\n",
    "#print(\"-------\\n\") \n",
    "\n",
    "change_my_card(player1,shuffled_stack)\n"
   ]
  },
  {
   "cell_type": "code",
   "execution_count": null,
   "id": "82f84653",
   "metadata": {},
   "outputs": [],
   "source": []
  },
  {
   "cell_type": "code",
   "execution_count": null,
   "id": "0344b624",
   "metadata": {},
   "outputs": [],
   "source": []
  }
 ],
 "metadata": {
  "kernelspec": {
   "display_name": "Python 3 (ipykernel)",
   "language": "python",
   "name": "python3"
  },
  "language_info": {
   "codemirror_mode": {
    "name": "ipython",
    "version": 3
   },
   "file_extension": ".py",
   "mimetype": "text/x-python",
   "name": "python",
   "nbconvert_exporter": "python",
   "pygments_lexer": "ipython3",
   "version": "3.11.5"
  }
 },
 "nbformat": 4,
 "nbformat_minor": 5
}
